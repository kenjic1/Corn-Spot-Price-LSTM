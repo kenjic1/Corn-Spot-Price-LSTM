{
 "cells": [
  {
   "cell_type": "code",
   "execution_count": 1,
   "id": "6d84f543-7f8c-4f51-8019-01c5aef3ec70",
   "metadata": {},
   "outputs": [
    {
     "ename": "NameError",
     "evalue": "name 'model' is not defined",
     "output_type": "error",
     "traceback": [
      "\u001b[0;31m---------------------------------------------------------------------------\u001b[0m",
      "\u001b[0;31mNameError\u001b[0m                                 Traceback (most recent call last)",
      "Cell \u001b[0;32mIn[1], line 7\u001b[0m\n\u001b[1;32m      5\u001b[0m num_epochs \u001b[38;5;241m=\u001b[39m \u001b[38;5;241m50\u001b[39m\n\u001b[1;32m      6\u001b[0m \u001b[38;5;28;01mfor\u001b[39;00m epoch \u001b[38;5;129;01min\u001b[39;00m \u001b[38;5;28mrange\u001b[39m(num_epochs):\n\u001b[0;32m----> 7\u001b[0m     \u001b[43mmodel\u001b[49m\u001b[38;5;241m.\u001b[39mtrain()\n\u001b[1;32m      8\u001b[0m     optimizer\u001b[38;5;241m.\u001b[39mzero_grad()\n\u001b[1;32m      9\u001b[0m     outputs \u001b[38;5;241m=\u001b[39m model(X_train)\n",
      "\u001b[0;31mNameError\u001b[0m: name 'model' is not defined"
     ]
    }
   ],
   "source": [
    "train_losses = []\n",
    "val_losses = []\n",
    "test_losses = []\n",
    "\n",
    "num_epochs = 50\n",
    "for epoch in range(num_epochs):\n",
    "    model.train()\n",
    "    optimizer.zero_grad()\n",
    "    outputs = model(X_train)\n",
    "    loss = criterion(outputs.squeeze(), y_train.squeeze())  \n",
    "    loss.backward()\n",
    "    optimizer.step()\n",
    "\n",
    "    \n",
    "    model.eval()\n",
    "    with torch.no_grad():\n",
    "        y_pred_val = model(X_val).squeeze()\n",
    "        val_loss = criterion(y_pred_val, y_val.squeeze())\n",
    "        \n",
    "        y_pred_test = model(X_test).squeeze()\n",
    "        test_loss = criterion(y_pred_test, y_test.squeeze())\n",
    "        \n",
    "    train_losses.append(loss.item())\n",
    "    val_losses.append(val_loss.item())\n",
    "    test_losses.append(test_loss.item())\n",
    "    \n",
    "    if epoch % 5 == 0:\n",
    "        print(f\"Epoch [{epoch}/{num_epochs}], Train Loss: {loss.item():.6f}, Val Loss: {val_loss.item():.6f}, Test Loss: {test_loss.item():.6f}\")\n",
    "\n",
    "\n",
    "plt.plot(train_losses, label=\"Train Loss\")\n",
    "plt.plot(val_losses, label=\"Validation Loss\")\n",
    "plt.plot(test_losses, label=\"Test Loss\")\n",
    "plt.title(\"Train, Validation, and Test Losses\")\n",
    "\n",
    "plt.legend()\n",
    "plt.show()\n",
    "model.eval()\n",
    "with torch.no_grad():\n",
    "    y_pred_test = model(X_test).squeeze().numpy()\n",
    "    y_pred_train = model(X_train).squeeze().numpy()\n",
    "    y_pred_val = model(X_val).squeeze().numpy()\n",
    "\n",
    "\n",
    "y_pred_test_flat = y_pred_test.reshape(-1, 1)\n",
    "y_test_flat = y_test.reshape(-1, 1)\n",
    "y_pred_train_flat = y_pred_train.reshape(-1, 1)\n",
    "y_train_flat = y_train.reshape(-1, 1)\n",
    "y_pred_val_flat = y_pred_val.reshape(-1, 1)\n",
    "y_val_flat = y_val.reshape(-1, 1)\n",
    "\n",
    "\n",
    "y_pred_test = scaler.inverse_transform(y_pred_test_flat)\n",
    "y_test = scaler.inverse_transform(y_test_flat)\n",
    "y_pred_train = scaler.inverse_transform(y_pred_train_flat)\n",
    "y_train = scaler.inverse_transform(y_train_flat)\n",
    "y_pred_val = scaler.inverse_transform(y_pred_val_flat)\n",
    "y_val = scaler.inverse_transform(y_val_flat)\n",
    "\n",
    "y_pred_test = y_pred_test.reshape(-1, 10, 1)\n",
    "y_test = y_test.reshape(-1, 10, 1)\n",
    "y_pred_train = y_pred_train.reshape(-1, 10, 1)\n",
    "y_train = y_train.reshape(-1, 10, 1)\n",
    "y_pred_val = y_pred_val.reshape(-1, 10, 1)\n",
    "y_val = y_val.reshape(-1, 10, 1)\n"
   ]
  },
  {
   "cell_type": "code",
   "execution_count": null,
   "id": "d1aa7142-a424-4a59-af64-ad42daabd8b9",
   "metadata": {},
   "outputs": [],
   "source": []
  }
 ],
 "metadata": {
  "kernelspec": {
   "display_name": "Python 3 (ipykernel)",
   "language": "python",
   "name": "python3"
  },
  "language_info": {
   "codemirror_mode": {
    "name": "ipython",
    "version": 3
   },
   "file_extension": ".py",
   "mimetype": "text/x-python",
   "name": "python",
   "nbconvert_exporter": "python",
   "pygments_lexer": "ipython3",
   "version": "3.8.16"
  }
 },
 "nbformat": 4,
 "nbformat_minor": 5
}
